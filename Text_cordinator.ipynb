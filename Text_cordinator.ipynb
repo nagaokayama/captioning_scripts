{
  "nbformat": 4,
  "nbformat_minor": 0,
  "metadata": {
    "colab": {
      "provenance": [],
      "private_outputs": true,
      "authorship_tag": "ABX9TyPtkzo6ly2tvGMUdtx1/ztK",
      "include_colab_link": true
    },
    "kernelspec": {
      "name": "python3",
      "display_name": "Python 3"
    },
    "language_info": {
      "name": "python"
    }
  },
  "cells": [
    {
      "cell_type": "markdown",
      "metadata": {
        "id": "view-in-github",
        "colab_type": "text"
      },
      "source": [
        "<a href=\"https://colab.research.google.com/github/nagaokayama/captioning_scripts/blob/main/Text_cordinator.ipynb\" target=\"_parent\"><img src=\"https://colab.research.google.com/assets/colab-badge.svg\" alt=\"Open In Colab\"/></a>"
      ]
    },
    {
      "cell_type": "code",
      "source": [
        "# @title 0. google driveのファイルを使用する場合はまずこのスクリプトを実行してください {display-mode: \"form\"}\n",
        "# @markdown ←●に▶が入ってるマークが「セルを実行ボタン」です。これを押して実行\\\n",
        "# @markdown グーグルドライブの中身はファイルブラウザのgdrive/MyDriveに共有されておりここから閲覧できます\n",
        "\n",
        "from google.colab import drive\n",
        "drive.mount('/content/gdrive')"
      ],
      "metadata": {
        "id": "X8F-H7Q3nTK5"
      },
      "execution_count": null,
      "outputs": []
    },
    {
      "cell_type": "code",
      "source": [
        "import re\n",
        "import os\n",
        "import glob\n",
        "\n",
        "# @title 1. 画像情報の抽出 {display-mode: \"form\"}\n",
        "\n",
        "# This code will be hidden when the notebook is loaded.\n",
        "\n",
        "\n",
        "# @markdown 右端にあるフォルダのマークをクリックしてファイルブラウザを開き\\\n",
        "# @markdown 目的のフォルダを右クリックして「パスをコピー」でファイルパスをコピーできます\n",
        "\n",
        "# @markdown 画像の入っているフォルダを指定\n",
        "image_folder = \"/content/Untitled Folder\" #@param {type:\"string\"}\n",
        "# @markdown 「セルを実行」ボタンを押してテキストファイルを生成\\\n",
        "# @markdown テキストファイルはimage_folderに指定したフォルダに作成されます。\n",
        "\n",
        "# @markdown ---\n",
        "\n",
        " #フォルダとテキストのファイル名は自動で決める\n",
        "\n",
        "def extract_fileName(imagesFolder):\n",
        "  # 提出可能な画像の拡張子は？\n",
        "  pattern = re.compile(\".*\\.(png|jpg|jpeg|gif|webp|tiff)$\",re.IGNORECASE)\n",
        "  tmpFiles = glob.glob(f\"{imagesFolder}/*.*\")\n",
        "  fileNameList = []\n",
        "\n",
        "  for name in tmpFiles:\n",
        "    # 画像ファイル以外の拡張子を持つファイルを除外\n",
        "    basename = os.path.basename(name)\n",
        "    # print(basename)\n",
        "    ismatch = pattern.search(basename)\n",
        "    if ismatch:\n",
        "      fileNameList.append(ismatch.group(0))\n",
        "\n",
        "  return fileNameList\n",
        "\n",
        "\n",
        "def export_ImageFileName(textstring):\n",
        "  text = \"\"\n",
        "  for i in textstring:\n",
        "    tmp = i.split(\".\")[0] # 拡張子を削除\n",
        "    text += tmp+\"\\n\"\n",
        "\n",
        "  text = text.rstrip(\"\\n\") # 末尾の改行記号を削除\n",
        "  print(text)\n",
        "  filepath = os.path.join(image_folder,\"imageFileList.txt\")\n",
        "  with open(filepath, mode = \"w\") as f:\n",
        "    f.write(text)\n",
        "  return 1\n",
        "\n",
        "# 関数を実行\n",
        "tmp = extract_fileName(image_folder)\n",
        "export_ImageFileName(tmp)"
      ],
      "metadata": {
        "id": "ydRP2MeXmlSx"
      },
      "execution_count": null,
      "outputs": []
    },
    {
      "cell_type": "markdown",
      "source": [
        "以下開発用のメモなど\n",
        "\n",
        "\n",
        "---\n",
        "\n"
      ],
      "metadata": {
        "id": "yM-OcEGRBUOu"
      }
    },
    {
      "cell_type": "code",
      "source": [
        "# @title キャプション用テキストファイルの書き出し\n",
        "\n",
        "# @markdown テキストファイルの書き出し先\n",
        "export_folder = \"\" #@param {type:\"string\"}\n",
        "\n",
        "with open()as f:\n",
        "\n",
        "  f.write()"
      ],
      "metadata": {
        "id": "lkQSLIrg5kDU"
      },
      "execution_count": null,
      "outputs": []
    },
    {
      "cell_type": "code",
      "source": [
        "# @title フォームのついたコードセルの書き方\n",
        "# @markdown Forms support many types of fields.\n",
        "\n",
        "no_type_checking = ''  # @param\n",
        "string_type = 'example'  # @param {type: \"string\"}\n",
        "slider_value = 141  # @param {type: \"slider\", min: 100, max: 200}\n",
        "number = 102  # @param {type: \"number\"}\n",
        "date = '2010-11-05'  # @param {type: \"date\"}\n",
        "pick_me = \"monday\"  # @param ['monday', 'tuesday', 'wednesday', 'thursday']\n",
        "select_or_input = \"apples\" # @param [\"apples\", \"bananas\", \"oranges\"] {allow-input: true}\n",
        "# @markdown ---\n"
      ],
      "metadata": {
        "id": "h24gEjV7l5FX"
      },
      "execution_count": null,
      "outputs": []
    }
  ]
}